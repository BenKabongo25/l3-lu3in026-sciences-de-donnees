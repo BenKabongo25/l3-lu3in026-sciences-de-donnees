{
 "cells": [
  {
   "cell_type": "code",
   "execution_count": 1,
   "id": "92f80304",
   "metadata": {},
   "outputs": [],
   "source": [
    "import numpy as np"
   ]
  },
  {
   "cell_type": "code",
   "execution_count": 2,
   "id": "d38456ad",
   "metadata": {},
   "outputs": [],
   "source": [
    "cluster = np.random.randint(0, 10, (10, 5))"
   ]
  },
  {
   "cell_type": "code",
   "execution_count": 3,
   "id": "ec73036e",
   "metadata": {},
   "outputs": [],
   "source": [
    "def centroide(cluster):\n",
    "    return np.mean(cluster, axis=0)"
   ]
  },
  {
   "cell_type": "code",
   "execution_count": 4,
   "id": "ab82fc79",
   "metadata": {},
   "outputs": [
    {
     "data": {
      "text/plain": [
       "array([4.6, 3.8, 4.9, 4.9, 4.5])"
      ]
     },
     "execution_count": 4,
     "metadata": {},
     "output_type": "execute_result"
    }
   ],
   "source": [
    "centroide(cluster)"
   ]
  },
  {
   "cell_type": "code",
   "execution_count": 5,
   "id": "726877fa",
   "metadata": {},
   "outputs": [],
   "source": [
    "def inertie(cluster):\n",
    "    return np.sum((cluster-centroide(cluster))**2)"
   ]
  },
  {
   "cell_type": "code",
   "execution_count": 6,
   "id": "125900eb",
   "metadata": {},
   "outputs": [
    {
     "data": {
      "text/plain": [
       "542.3"
      ]
     },
     "execution_count": 6,
     "metadata": {},
     "output_type": "execute_result"
    }
   ],
   "source": [
    "inertie(cluster)"
   ]
  }
 ],
 "metadata": {
  "kernelspec": {
   "display_name": "Python 3 (ipykernel)",
   "language": "python",
   "name": "python3"
  },
  "language_info": {
   "codemirror_mode": {
    "name": "ipython",
    "version": 3
   },
   "file_extension": ".py",
   "mimetype": "text/x-python",
   "name": "python",
   "nbconvert_exporter": "python",
   "pygments_lexer": "ipython3",
   "version": "3.7.12"
  }
 },
 "nbformat": 4,
 "nbformat_minor": 5
}
